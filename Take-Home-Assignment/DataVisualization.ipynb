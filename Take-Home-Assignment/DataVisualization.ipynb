{
 "cells": [
  {
   "cell_type": "code",
   "execution_count": 1,
   "id": "f17ef73b",
   "metadata": {},
   "outputs": [
    {
     "name": "stdout",
     "output_type": "stream",
     "text": [
      "['cellphones', 'DDV', 'FPTS', 'GearVN', 'TGDD']\n",
      "[37500000, 37790000, 34899000, 35990000, 34890000]\n"
     ]
    },
    {
     "data": {
      "image/png": "[encoded data removed]",
      "text/plain": [
       "<Figure size 432x288 with 1 Axes>"
      ]
     },
     "metadata": {
      "needs_background": "light"
     },
     "output_type": "display_data"
    }
   ],
   "source": [
    "import pandas as pd\n",
    "import re\n",
    "df = pd.read_csv('data.csv')\n",
    "newPrice = []\n",
    "branch = [i for i in df['branch']]\n",
    "for i in df['price']:\n",
    "    newValue = re.sub(r\"[^0-9 ]\",\"\",i)\n",
    "    newPrice.append(int(newValue))\n",
    "print(branch)\n",
    "print(newPrice)\n",
    "df2 = pd.DataFrame({'price':newPrice},index = branch)\n",
    "chart = df2.plot.bar(rot=0)"
   ]
  },
  {
   "cell_type": "code",
   "execution_count": 9,
   "id": "a9eb4b68",
   "metadata": {},
   "outputs": [
    {
     "name": "stdout",
     "output_type": "stream",
     "text": [
      "Branch : DDV has highest price :37790000\n"
     ]
    }
   ],
   "source": [
    "print(\"Branch : \" +branch[newPrice.index(max(newPrice))] +\" has highest price :\"+ str(max(newPrice)))"
   ]
  },
  {
   "cell_type": "code",
   "execution_count": 10,
   "id": "a55efb38",
   "metadata": {},
   "outputs": [
    {
     "name": "stdout",
     "output_type": "stream",
     "text": [
      "Branch : TGDD has lowest price :34890000\n"
     ]
    }
   ],
   "source": [
    "print(\"Branch : \" +branch[newPrice.index(min(newPrice))] +\" has lowest price :\"+ str(min(newPrice)))"
   ]
  },
  {
   "cell_type": "code",
   "execution_count": null,
   "id": "28c177d8",
   "metadata": {},
   "outputs": [],
   "source": []
  }
 ],
 "metadata": {
  "kernelspec": {
   "display_name": "Python 3",
   "language": "python",
   "name": "python3"
  },
  "language_info": {
   "codemirror_mode": {
    "name": "ipython",
    "version": 3
   },
   "file_extension": ".py",
   "mimetype": "text/x-python",
   "name": "python",
   "nbconvert_exporter": "python",
   "pygments_lexer": "ipython3",
   "version": "3.8.8"
  }
 },
 "nbformat": 4,
 "nbformat_minor": 5
}
